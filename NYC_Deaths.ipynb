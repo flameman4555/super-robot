{
 "cells": [
  {
   "cell_type": "code",
   "execution_count": 1,
   "metadata": {},
   "outputs": [],
   "source": [
    "import pandas as pd\n",
    "import numpy as np\n",
    "import seaborn as sns \n",
    "import matplotlib.pyplot as plt"
   ]
  },
  {
   "cell_type": "code",
   "execution_count": 2,
   "metadata": {},
   "outputs": [],
   "source": [
    "file = r'Data Scientist Python/New_York_City_Leading_Causes_of_Death.csv'\n",
    "df = pd.read_csv(file)"
   ]
  },
  {
   "cell_type": "markdown",
   "metadata": {},
   "source": [
    "Let's first study the features, data types & understand if there is any missing data"
   ]
  },
  {
   "cell_type": "code",
   "execution_count": 3,
   "metadata": {},
   "outputs": [
    {
     "name": "stdout",
     "output_type": "stream",
     "text": [
      "['Year', 'Leading Cause', 'Sex', 'Race Ethnicity', 'Deaths', 'Death Rate', 'Age Adjusted Death Rate']\n",
      "(1094, 7)\n"
     ]
    }
   ],
   "source": [
    "print(list(df.columns))\n",
    "print(df.shape)\n"
   ]
  },
  {
   "cell_type": "code",
   "execution_count": 4,
   "metadata": {},
   "outputs": [
    {
     "data": {
      "text/plain": [
       "Year                        int64\n",
       "Leading Cause              object\n",
       "Sex                        object\n",
       "Race Ethnicity             object\n",
       "Deaths                     object\n",
       "Death Rate                 object\n",
       "Age Adjusted Death Rate    object\n",
       "dtype: object"
      ]
     },
     "execution_count": 4,
     "metadata": {},
     "output_type": "execute_result"
    }
   ],
   "source": [
    "df.dtypes"
   ]
  },
  {
   "cell_type": "code",
   "execution_count": 5,
   "metadata": {},
   "outputs": [
    {
     "data": {
      "text/html": [
       "<div>\n",
       "<style scoped>\n",
       "    .dataframe tbody tr th:only-of-type {\n",
       "        vertical-align: middle;\n",
       "    }\n",
       "\n",
       "    .dataframe tbody tr th {\n",
       "        vertical-align: top;\n",
       "    }\n",
       "\n",
       "    .dataframe thead th {\n",
       "        text-align: right;\n",
       "    }\n",
       "</style>\n",
       "<table border=\"1\" class=\"dataframe\">\n",
       "  <thead>\n",
       "    <tr style=\"text-align: right;\">\n",
       "      <th></th>\n",
       "      <th>Year</th>\n",
       "      <th>Leading Cause</th>\n",
       "      <th>Sex</th>\n",
       "      <th>Race Ethnicity</th>\n",
       "      <th>Deaths</th>\n",
       "      <th>Death Rate</th>\n",
       "      <th>Age Adjusted Death Rate</th>\n",
       "    </tr>\n",
       "  </thead>\n",
       "  <tbody>\n",
       "    <tr>\n",
       "      <th>0</th>\n",
       "      <td>2010</td>\n",
       "      <td>Assault (Homicide: Y87.1, X85-Y09)</td>\n",
       "      <td>M</td>\n",
       "      <td>Black Non-Hispanic</td>\n",
       "      <td>299</td>\n",
       "      <td>35.1</td>\n",
       "      <td>35.5</td>\n",
       "    </tr>\n",
       "    <tr>\n",
       "      <th>1</th>\n",
       "      <td>2011</td>\n",
       "      <td>Mental and Behavioral Disorders due to Acciden...</td>\n",
       "      <td>M</td>\n",
       "      <td>Not Stated/Unknown</td>\n",
       "      <td>5</td>\n",
       "      <td>.</td>\n",
       "      <td>.</td>\n",
       "    </tr>\n",
       "    <tr>\n",
       "      <th>2</th>\n",
       "      <td>2011</td>\n",
       "      <td>Diseases of Heart (I00-I09, I11, I13, I20-I51)</td>\n",
       "      <td>M</td>\n",
       "      <td>Black Non-Hispanic</td>\n",
       "      <td>1840</td>\n",
       "      <td>215.7</td>\n",
       "      <td>268.3</td>\n",
       "    </tr>\n",
       "    <tr>\n",
       "      <th>3</th>\n",
       "      <td>2008</td>\n",
       "      <td>Certain Conditions originating in the Perinata...</td>\n",
       "      <td>F</td>\n",
       "      <td>Other Race/ Ethnicity</td>\n",
       "      <td>.</td>\n",
       "      <td>.</td>\n",
       "      <td>.</td>\n",
       "    </tr>\n",
       "    <tr>\n",
       "      <th>4</th>\n",
       "      <td>2014</td>\n",
       "      <td>Accidents Except Drug Posioning (V01-X39, X43,...</td>\n",
       "      <td>F</td>\n",
       "      <td>Hispanic</td>\n",
       "      <td>64</td>\n",
       "      <td>5.1</td>\n",
       "      <td>5.4</td>\n",
       "    </tr>\n",
       "    <tr>\n",
       "      <th>5</th>\n",
       "      <td>2007</td>\n",
       "      <td>Intentional Self-Harm (Suicide: X60-X84, Y87.0)</td>\n",
       "      <td>M</td>\n",
       "      <td>Not Stated/Unknown</td>\n",
       "      <td>5</td>\n",
       "      <td>.</td>\n",
       "      <td>.</td>\n",
       "    </tr>\n",
       "    <tr>\n",
       "      <th>6</th>\n",
       "      <td>2012</td>\n",
       "      <td>Accidents Except Drug Posioning (V01-X39, X43,...</td>\n",
       "      <td>M</td>\n",
       "      <td>Black Non-Hispanic</td>\n",
       "      <td>152</td>\n",
       "      <td>17.8</td>\n",
       "      <td>18.6</td>\n",
       "    </tr>\n",
       "    <tr>\n",
       "      <th>7</th>\n",
       "      <td>2009</td>\n",
       "      <td>All Other Causes</td>\n",
       "      <td>M</td>\n",
       "      <td>Asian and Pacific Islander</td>\n",
       "      <td>220</td>\n",
       "      <td>43.1</td>\n",
       "      <td>56.1</td>\n",
       "    </tr>\n",
       "    <tr>\n",
       "      <th>8</th>\n",
       "      <td>2013</td>\n",
       "      <td>Diseases of Heart (I00-I09, I11, I13, I20-I51)</td>\n",
       "      <td>F</td>\n",
       "      <td>Asian and Pacific Islander</td>\n",
       "      <td>437</td>\n",
       "      <td>72.8</td>\n",
       "      <td>81.8</td>\n",
       "    </tr>\n",
       "    <tr>\n",
       "      <th>9</th>\n",
       "      <td>2014</td>\n",
       "      <td>Accidents Except Drug Posioning (V01-X39, X43,...</td>\n",
       "      <td>M</td>\n",
       "      <td>Other Race/ Ethnicity</td>\n",
       "      <td>12</td>\n",
       "      <td>.</td>\n",
       "      <td>.</td>\n",
       "    </tr>\n",
       "    <tr>\n",
       "      <th>10</th>\n",
       "      <td>2012</td>\n",
       "      <td>Septicemia (A40-A41)</td>\n",
       "      <td>F</td>\n",
       "      <td>Other Race/ Ethnicity</td>\n",
       "      <td>.</td>\n",
       "      <td>.</td>\n",
       "      <td>.</td>\n",
       "    </tr>\n",
       "    <tr>\n",
       "      <th>11</th>\n",
       "      <td>2012</td>\n",
       "      <td>Certain Conditions originating in the Perinata...</td>\n",
       "      <td>M</td>\n",
       "      <td>Not Stated/Unknown</td>\n",
       "      <td>17</td>\n",
       "      <td>.</td>\n",
       "      <td>.</td>\n",
       "    </tr>\n",
       "    <tr>\n",
       "      <th>12</th>\n",
       "      <td>2012</td>\n",
       "      <td>Essential Hypertension and Renal Diseases (I10...</td>\n",
       "      <td>F</td>\n",
       "      <td>White Non-Hispanic</td>\n",
       "      <td>199</td>\n",
       "      <td>14</td>\n",
       "      <td>7.2</td>\n",
       "    </tr>\n",
       "    <tr>\n",
       "      <th>13</th>\n",
       "      <td>2014</td>\n",
       "      <td>Diabetes Mellitus (E10-E14)</td>\n",
       "      <td>F</td>\n",
       "      <td>Other Race/ Ethnicity</td>\n",
       "      <td>11</td>\n",
       "      <td>.</td>\n",
       "      <td>.</td>\n",
       "    </tr>\n",
       "    <tr>\n",
       "      <th>14</th>\n",
       "      <td>2008</td>\n",
       "      <td>Influenza (Flu) and Pneumonia (J09-J18)</td>\n",
       "      <td>F</td>\n",
       "      <td>Not Stated/Unknown</td>\n",
       "      <td>14</td>\n",
       "      <td>.</td>\n",
       "      <td>.</td>\n",
       "    </tr>\n",
       "    <tr>\n",
       "      <th>15</th>\n",
       "      <td>2014</td>\n",
       "      <td>Cerebrovascular Disease (Stroke: I60-I69)</td>\n",
       "      <td>M</td>\n",
       "      <td>Hispanic</td>\n",
       "      <td>165</td>\n",
       "      <td>13.8</td>\n",
       "      <td>20.4</td>\n",
       "    </tr>\n",
       "    <tr>\n",
       "      <th>16</th>\n",
       "      <td>2011</td>\n",
       "      <td>Diseases of Heart (I00-I09, I11, I13, I20-I51)</td>\n",
       "      <td>M</td>\n",
       "      <td>White Non-Hispanic</td>\n",
       "      <td>4220</td>\n",
       "      <td>316.4</td>\n",
       "      <td>260.2</td>\n",
       "    </tr>\n",
       "    <tr>\n",
       "      <th>17</th>\n",
       "      <td>2014</td>\n",
       "      <td>Chronic Lower Respiratory Diseases (J40-J47)</td>\n",
       "      <td>F</td>\n",
       "      <td>Hispanic</td>\n",
       "      <td>193</td>\n",
       "      <td>15.2</td>\n",
       "      <td>16.8</td>\n",
       "    </tr>\n",
       "    <tr>\n",
       "      <th>18</th>\n",
       "      <td>2014</td>\n",
       "      <td>Certain Conditions originating in the Perinata...</td>\n",
       "      <td>M</td>\n",
       "      <td>Other Race/ Ethnicity</td>\n",
       "      <td>8</td>\n",
       "      <td>.</td>\n",
       "      <td>.</td>\n",
       "    </tr>\n",
       "    <tr>\n",
       "      <th>19</th>\n",
       "      <td>2014</td>\n",
       "      <td>Septicemia (A40-A41)</td>\n",
       "      <td>M</td>\n",
       "      <td>Not Stated/Unknown</td>\n",
       "      <td>8</td>\n",
       "      <td>.</td>\n",
       "      <td>.</td>\n",
       "    </tr>\n",
       "  </tbody>\n",
       "</table>\n",
       "</div>"
      ],
      "text/plain": [
       "    Year                                      Leading Cause Sex  \\\n",
       "0   2010                 Assault (Homicide: Y87.1, X85-Y09)   M   \n",
       "1   2011  Mental and Behavioral Disorders due to Acciden...   M   \n",
       "2   2011     Diseases of Heart (I00-I09, I11, I13, I20-I51)   M   \n",
       "3   2008  Certain Conditions originating in the Perinata...   F   \n",
       "4   2014  Accidents Except Drug Posioning (V01-X39, X43,...   F   \n",
       "5   2007    Intentional Self-Harm (Suicide: X60-X84, Y87.0)   M   \n",
       "6   2012  Accidents Except Drug Posioning (V01-X39, X43,...   M   \n",
       "7   2009                                   All Other Causes   M   \n",
       "8   2013     Diseases of Heart (I00-I09, I11, I13, I20-I51)   F   \n",
       "9   2014  Accidents Except Drug Posioning (V01-X39, X43,...   M   \n",
       "10  2012                               Septicemia (A40-A41)   F   \n",
       "11  2012  Certain Conditions originating in the Perinata...   M   \n",
       "12  2012  Essential Hypertension and Renal Diseases (I10...   F   \n",
       "13  2014                        Diabetes Mellitus (E10-E14)   F   \n",
       "14  2008            Influenza (Flu) and Pneumonia (J09-J18)   F   \n",
       "15  2014          Cerebrovascular Disease (Stroke: I60-I69)   M   \n",
       "16  2011     Diseases of Heart (I00-I09, I11, I13, I20-I51)   M   \n",
       "17  2014       Chronic Lower Respiratory Diseases (J40-J47)   F   \n",
       "18  2014  Certain Conditions originating in the Perinata...   M   \n",
       "19  2014                               Septicemia (A40-A41)   M   \n",
       "\n",
       "                Race Ethnicity Deaths Death Rate Age Adjusted Death Rate  \n",
       "0           Black Non-Hispanic    299       35.1                    35.5  \n",
       "1           Not Stated/Unknown      5          .                       .  \n",
       "2           Black Non-Hispanic   1840      215.7                   268.3  \n",
       "3        Other Race/ Ethnicity      .          .                       .  \n",
       "4                     Hispanic     64        5.1                     5.4  \n",
       "5           Not Stated/Unknown      5          .                       .  \n",
       "6           Black Non-Hispanic    152       17.8                    18.6  \n",
       "7   Asian and Pacific Islander    220       43.1                    56.1  \n",
       "8   Asian and Pacific Islander    437       72.8                    81.8  \n",
       "9        Other Race/ Ethnicity     12          .                       .  \n",
       "10       Other Race/ Ethnicity      .          .                       .  \n",
       "11          Not Stated/Unknown     17          .                       .  \n",
       "12          White Non-Hispanic    199         14                     7.2  \n",
       "13       Other Race/ Ethnicity     11          .                       .  \n",
       "14          Not Stated/Unknown     14          .                       .  \n",
       "15                    Hispanic    165       13.8                    20.4  \n",
       "16          White Non-Hispanic   4220      316.4                   260.2  \n",
       "17                    Hispanic    193       15.2                    16.8  \n",
       "18       Other Race/ Ethnicity      8          .                       .  \n",
       "19          Not Stated/Unknown      8          .                       .  "
      ]
     },
     "execution_count": 5,
     "metadata": {},
     "output_type": "execute_result"
    }
   ],
   "source": [
    "df.head(20)"
   ]
  },
  {
   "cell_type": "markdown",
   "metadata": {},
   "source": [
    "Our goal is to gain insights into how people are dying in NYC as a function of race, sex and age. First, let's get some big picture insights. Let's study:\n",
    "\n",
    "1. The number of deaths every year up to date\n",
    "2. The male to female ratio of deaths every year up to date \n",
    "\n",
    "In order for us to do some of these calcuations, we'll need to convert Deaths, Death Rate, Age-Adjusted Death Rate to integers. We're going to have to deal with the '.' stuff as well. Let's convert these to 0 for now. "
   ]
  },
  {
   "cell_type": "code",
   "execution_count": 6,
   "metadata": {},
   "outputs": [],
   "source": [
    "df_zero = df.apply(lambda x: x.replace('.','0'))[['Deaths','Death Rate','Age Adjusted Death Rate']].astype('float')\n",
    "df_zero[['Ethnicity','Year','Cause','Sex']] = df[['Race Ethnicity','Year','Leading Cause','Sex']]"
   ]
  },
  {
   "cell_type": "code",
   "execution_count": 7,
   "metadata": {},
   "outputs": [
    {
     "data": {
      "text/plain": [
       "Text(0,0.5,'Number of Deaths')"
      ]
     },
     "execution_count": 7,
     "metadata": {},
     "output_type": "execute_result"
    },
    {
     "data": {
      "image/png": "[encoded data removed]",
      "text/plain": [
       "<Figure size 432x288 with 1 Axes>"
      ]
     },
     "metadata": {},
     "output_type": "display_data"
    }
   ],
   "source": [
    "# 1. Let's study the number of deaths per year \n",
    "# We're going to group by the year, aggreggate the deaths and then sort by year\n",
    "deaths_by_year = df_zero.groupby('Year')['Deaths'].agg('sum').plot(color='r')\n",
    "plt.title('Number of Deaths Every Year')\n",
    "plt.ylabel('Number of Deaths')"
   ]
  },
  {
   "cell_type": "markdown",
   "metadata": {},
   "source": [
    "We see that the number of deaths has increased a little recently. There was a huge increase from 2012-2013, but 2014 is getting better."
   ]
  },
  {
   "cell_type": "code",
   "execution_count": 8,
   "metadata": {},
   "outputs": [],
   "source": [
    "# Let's study the female and male deaths every year\n",
    "deaths_by_sex_year = df_zero.groupby(['Year','Sex'])['Deaths'].agg('sum').reset_index()\n",
    "deaths_by_male = deaths_by_sex_year[deaths_by_sex_year['Sex']=='M']\n",
    "deaths_by_female = deaths_by_sex_year[deaths_by_sex_year['Sex']=='F']\n"
   ]
  },
  {
   "cell_type": "code",
   "execution_count": 9,
   "metadata": {},
   "outputs": [
    {
     "data": {
      "image/png": "[encoded data removed]",
      "text/plain": [
       "<Figure size 432x288 with 1 Axes>"
      ]
     },
     "metadata": {},
     "output_type": "display_data"
    }
   ],
   "source": [
    "# Better to do a scatter plot and hue will be male vs. female \n",
    "plt.plot(deaths_by_male.Year, deaths_by_male.Deaths,label='Male',color='b')\n",
    "plt.plot(deaths_by_male.Year, deaths_by_female.Deaths,label='Male',color='r')\n",
    "plt.title('Number of Deaths every year by Sex')\n",
    "plt.xlabel('Year')\n",
    "plt.ylabel('Deaths')\n",
    "plt.show()"
   ]
  },
  {
   "cell_type": "markdown",
   "metadata": {},
   "source": [
    "Wow, looks like females are getting killed more than males every year since 2007. \n",
    "\n",
    "Now, let's study the ethnicities and start by identifying all the ethnicities present. "
   ]
  },
  {
   "cell_type": "code",
   "execution_count": 10,
   "metadata": {},
   "outputs": [
    {
     "data": {
      "text/plain": [
       "0            Black Non-Hispanic\n",
       "1            Not Stated/Unknown\n",
       "2         Other Race/ Ethnicity\n",
       "3                      Hispanic\n",
       "4    Asian and Pacific Islander\n",
       "5            White Non-Hispanic\n",
       "dtype: object"
      ]
     },
     "execution_count": 10,
     "metadata": {},
     "output_type": "execute_result"
    }
   ],
   "source": [
    "pd.Series(df_zero['Ethnicity'].unique())"
   ]
  },
  {
   "cell_type": "markdown",
   "metadata": {},
   "source": [
    "Now, I'd like to study how the number of deaths have changed every year per ethnicity. We will group by year and ethnicity and sum on the deaths. Let's do a bar-plot of deaths per ethnicity every year. "
   ]
  },
  {
   "cell_type": "code",
   "execution_count": 11,
   "metadata": {},
   "outputs": [],
   "source": [
    "# Black Non-Hispanic\n",
    "df_black_hispanic = df_zero.groupby(['Year','Ethnicity'])['Deaths'].agg('sum').reset_index()"
   ]
  },
  {
   "cell_type": "code",
   "execution_count": 12,
   "metadata": {},
   "outputs": [
    {
     "data": {
      "image/png": "[encoded data removed]",
      "text/plain": [
       "<Figure size 1440x1080 with 1 Axes>"
      ]
     },
     "metadata": {},
     "output_type": "display_data"
    }
   ],
   "source": [
    "plt.figure(figsize=(20,15))\n",
    "sns.barplot(x='Year',y='Deaths',hue='Ethnicity',data=df_black_hispanic)\n",
    "plt.title('Deaths by Ethnicity and Year')\n",
    "plt.show()"
   ]
  },
  {
   "cell_type": "markdown",
   "metadata": {},
   "source": [
    "It looks like every year, the number of deaths per ethnic group was roughly similar. The number of deaths by ethnic group ranks by:\n",
    "\n",
    "1. White Non-Hispanic\n",
    "2. Black Non-Hispanic\n",
    "3. Hispanic\n",
    "4. Asian and Pacific Islander\n",
    "5. Other Race/Ethnicity\n",
    "\n",
    "Next, it would be cool to study why there is such a high number of deaths for white non-hispanic and such a low number of deaths for other race/ethnicity. We should look into the leading cause of death every year for white non-hispanics. \n",
    "\n",
    "Ways to do this:\n",
    "\n",
    "1. Group by year and ethnicity and find cause of highest number of deaths for white non-hispanics"
   ]
  },
  {
   "cell_type": "code",
   "execution_count": 44,
   "metadata": {
    "scrolled": true
   },
   "outputs": [],
   "source": [
    "df_white_leading_deaths = df_zero.groupby(['Year','Ethnicity'])\n",
    "\n",
    "def get_WH(gr):     \n",
    "    temp = gr['Ethnicity'] == 'White Non-Hispanic'\n",
    "    white_hispanic = gr.loc[temp,['Deaths','Cause']]\n",
    "    return white_hispanic\n",
    "\n",
    "White_hispanics = df_white_leading_deaths.apply(get_WH).reset_index()"
   ]
  },
  {
   "cell_type": "code",
   "execution_count": 46,
   "metadata": {},
   "outputs": [],
   "source": [
    "max_deaths = White_hispanics.groupby('Year')['Deaths'].agg('max')"
   ]
  },
  {
   "cell_type": "code",
   "execution_count": 79,
   "metadata": {},
   "outputs": [
    {
     "data": {
      "text/html": [
       "<div>\n",
       "<style scoped>\n",
       "    .dataframe tbody tr th:only-of-type {\n",
       "        vertical-align: middle;\n",
       "    }\n",
       "\n",
       "    .dataframe tbody tr th {\n",
       "        vertical-align: top;\n",
       "    }\n",
       "\n",
       "    .dataframe thead th {\n",
       "        text-align: right;\n",
       "    }\n",
       "</style>\n",
       "<table border=\"1\" class=\"dataframe\">\n",
       "  <thead>\n",
       "    <tr style=\"text-align: right;\">\n",
       "      <th></th>\n",
       "      <th>Year</th>\n",
       "      <th>Ethnicity</th>\n",
       "      <th>level_2</th>\n",
       "      <th>Deaths</th>\n",
       "      <th>Cause</th>\n",
       "    </tr>\n",
       "  </thead>\n",
       "  <tbody>\n",
       "    <tr>\n",
       "      <th>9</th>\n",
       "      <td>2007</td>\n",
       "      <td>White Non-Hispanic</td>\n",
       "      <td>453</td>\n",
       "      <td>7050.0</td>\n",
       "      <td>Diseases of Heart (I00-I09, I11, I13, I20-I51)</td>\n",
       "    </tr>\n",
       "    <tr>\n",
       "      <th>26</th>\n",
       "      <td>2008</td>\n",
       "      <td>White Non-Hispanic</td>\n",
       "      <td>201</td>\n",
       "      <td>6836.0</td>\n",
       "      <td>Diseases of Heart (I00-I09, I11, I13, I20-I51)</td>\n",
       "    </tr>\n",
       "    <tr>\n",
       "      <th>45</th>\n",
       "      <td>2009</td>\n",
       "      <td>White Non-Hispanic</td>\n",
       "      <td>70</td>\n",
       "      <td>6297.0</td>\n",
       "      <td>Diseases of Heart (I00-I09, I11, I13, I20-I51)</td>\n",
       "    </tr>\n",
       "    <tr>\n",
       "      <th>71</th>\n",
       "      <td>2010</td>\n",
       "      <td>White Non-Hispanic</td>\n",
       "      <td>230</td>\n",
       "      <td>5351.0</td>\n",
       "      <td>Diseases of Heart (I00-I09, I11, I13, I20-I51)</td>\n",
       "    </tr>\n",
       "    <tr>\n",
       "      <th>92</th>\n",
       "      <td>2011</td>\n",
       "      <td>White Non-Hispanic</td>\n",
       "      <td>135</td>\n",
       "      <td>5016.0</td>\n",
       "      <td>Diseases of Heart (I00-I09, I11, I13, I20-I51)</td>\n",
       "    </tr>\n",
       "    <tr>\n",
       "      <th>111</th>\n",
       "      <td>2012</td>\n",
       "      <td>White Non-Hispanic</td>\n",
       "      <td>39</td>\n",
       "      <td>4719.0</td>\n",
       "      <td>Diseases of Heart (I00-I09, I11, I13, I20-I51)</td>\n",
       "    </tr>\n",
       "    <tr>\n",
       "      <th>146</th>\n",
       "      <td>2013</td>\n",
       "      <td>White Non-Hispanic</td>\n",
       "      <td>542</td>\n",
       "      <td>4535.0</td>\n",
       "      <td>Diseases of Heart (I00-I09, I11, I13, I20-I51)</td>\n",
       "    </tr>\n",
       "    <tr>\n",
       "      <th>157</th>\n",
       "      <td>2014</td>\n",
       "      <td>White Non-Hispanic</td>\n",
       "      <td>168</td>\n",
       "      <td>4507.0</td>\n",
       "      <td>Diseases of Heart (I00-I09, I11, I13, I20-I51)</td>\n",
       "    </tr>\n",
       "  </tbody>\n",
       "</table>\n",
       "</div>"
      ],
      "text/plain": [
       "     Year           Ethnicity  level_2  Deaths  \\\n",
       "9    2007  White Non-Hispanic      453  7050.0   \n",
       "26   2008  White Non-Hispanic      201  6836.0   \n",
       "45   2009  White Non-Hispanic       70  6297.0   \n",
       "71   2010  White Non-Hispanic      230  5351.0   \n",
       "92   2011  White Non-Hispanic      135  5016.0   \n",
       "111  2012  White Non-Hispanic       39  4719.0   \n",
       "146  2013  White Non-Hispanic      542  4535.0   \n",
       "157  2014  White Non-Hispanic      168  4507.0   \n",
       "\n",
       "                                              Cause  \n",
       "9    Diseases of Heart (I00-I09, I11, I13, I20-I51)  \n",
       "26   Diseases of Heart (I00-I09, I11, I13, I20-I51)  \n",
       "45   Diseases of Heart (I00-I09, I11, I13, I20-I51)  \n",
       "71   Diseases of Heart (I00-I09, I11, I13, I20-I51)  \n",
       "92   Diseases of Heart (I00-I09, I11, I13, I20-I51)  \n",
       "111  Diseases of Heart (I00-I09, I11, I13, I20-I51)  \n",
       "146  Diseases of Heart (I00-I09, I11, I13, I20-I51)  \n",
       "157  Diseases of Heart (I00-I09, I11, I13, I20-I51)  "
      ]
     },
     "execution_count": 79,
     "metadata": {},
     "output_type": "execute_result"
    }
   ],
   "source": [
    "White_hispanics[White_hispanics['Deaths'].isin(list(max_deaths))]"
   ]
  },
  {
   "cell_type": "markdown",
   "metadata": {},
   "source": [
    "It looks like the highest leading cause of death in white non-hispanics is due to heart disease every year ! Interesting..."
   ]
  },
  {
   "cell_type": "code",
   "execution_count": null,
   "metadata": {},
   "outputs": [],
   "source": []
  }
 ],
 "metadata": {
  "kernelspec": {
   "display_name": "Python 3",
   "language": "python",
   "name": "python3"
  },
  "language_info": {
   "codemirror_mode": {
    "name": "ipython",
    "version": 3
   },
   "file_extension": ".py",
   "mimetype": "text/x-python",
   "name": "python",
   "nbconvert_exporter": "python",
   "pygments_lexer": "ipython3",
   "version": "3.6.5"
  }
 },
 "nbformat": 4,
 "nbformat_minor": 2
}

{
 "cells": [
  {
   "cell_type": "code",
   "execution_count": 2,
   "metadata": {},
   "outputs": [],
   "source": [
    "import pandas as pd\n",
    "import numpy as np\n",
    "import matplotlib.pyplot as plt\n",
    "import seaborn as sns\n",
    "from scipy.stats import ttest_ind\n",
    "import re"
   ]
  },
  {
   "cell_type": "code",
   "execution_count": 3,
   "metadata": {},
   "outputs": [],
   "source": [
    "SAT_filename = r'C:\\Users\\Gouth_000\\2012_SAT_Results.csv'\n",
    "df = pd.read_csv(SAT_filename)"
   ]
  },
  {
   "cell_type": "markdown",
   "metadata": {},
   "source": [
    "Let's do some Initial checks to see the some of the data and what we are dealing with"
   ]
  },
  {
   "cell_type": "code",
   "execution_count": 4,
   "metadata": {},
   "outputs": [
    {
     "data": {
      "text/html": [
       "<div>\n",
       "<style scoped>\n",
       "    .dataframe tbody tr th:only-of-type {\n",
       "        vertical-align: middle;\n",
       "    }\n",
       "\n",
       "    .dataframe tbody tr th {\n",
       "        vertical-align: top;\n",
       "    }\n",
       "\n",
       "    .dataframe thead th {\n",
       "        text-align: right;\n",
       "    }\n",
       "</style>\n",
       "<table border=\"1\" class=\"dataframe\">\n",
       "  <thead>\n",
       "    <tr style=\"text-align: right;\">\n",
       "      <th></th>\n",
       "      <th>DBN</th>\n",
       "      <th>SCHOOL NAME</th>\n",
       "      <th>Num of SAT Test Takers</th>\n",
       "      <th>SAT Critical Reading Avg. Score</th>\n",
       "      <th>SAT Math Avg. Score</th>\n",
       "      <th>SAT Writing Avg. Score</th>\n",
       "    </tr>\n",
       "  </thead>\n",
       "  <tbody>\n",
       "    <tr>\n",
       "      <th>0</th>\n",
       "      <td>01M292</td>\n",
       "      <td>HENRY STREET SCHOOL FOR INTERNATIONAL STUDIES</td>\n",
       "      <td>29</td>\n",
       "      <td>355</td>\n",
       "      <td>404</td>\n",
       "      <td>363</td>\n",
       "    </tr>\n",
       "    <tr>\n",
       "      <th>1</th>\n",
       "      <td>01M448</td>\n",
       "      <td>UNIVERSITY NEIGHBORHOOD HIGH SCHOOL</td>\n",
       "      <td>91</td>\n",
       "      <td>383</td>\n",
       "      <td>423</td>\n",
       "      <td>366</td>\n",
       "    </tr>\n",
       "    <tr>\n",
       "      <th>2</th>\n",
       "      <td>01M450</td>\n",
       "      <td>EAST SIDE COMMUNITY SCHOOL</td>\n",
       "      <td>70</td>\n",
       "      <td>377</td>\n",
       "      <td>402</td>\n",
       "      <td>370</td>\n",
       "    </tr>\n",
       "    <tr>\n",
       "      <th>3</th>\n",
       "      <td>01M458</td>\n",
       "      <td>FORSYTH SATELLITE ACADEMY</td>\n",
       "      <td>7</td>\n",
       "      <td>414</td>\n",
       "      <td>401</td>\n",
       "      <td>359</td>\n",
       "    </tr>\n",
       "    <tr>\n",
       "      <th>4</th>\n",
       "      <td>01M509</td>\n",
       "      <td>MARTA VALLE HIGH SCHOOL</td>\n",
       "      <td>44</td>\n",
       "      <td>390</td>\n",
       "      <td>433</td>\n",
       "      <td>384</td>\n",
       "    </tr>\n",
       "    <tr>\n",
       "      <th>5</th>\n",
       "      <td>01M515</td>\n",
       "      <td>LOWER EAST SIDE PREPARATORY HIGH SCHOOL</td>\n",
       "      <td>112</td>\n",
       "      <td>332</td>\n",
       "      <td>557</td>\n",
       "      <td>316</td>\n",
       "    </tr>\n",
       "    <tr>\n",
       "      <th>6</th>\n",
       "      <td>01M539</td>\n",
       "      <td>NEW EXPLORATIONS INTO SCIENCE, TECHNOLOGY AND ...</td>\n",
       "      <td>159</td>\n",
       "      <td>522</td>\n",
       "      <td>574</td>\n",
       "      <td>525</td>\n",
       "    </tr>\n",
       "    <tr>\n",
       "      <th>7</th>\n",
       "      <td>01M650</td>\n",
       "      <td>CASCADES HIGH SCHOOL</td>\n",
       "      <td>18</td>\n",
       "      <td>417</td>\n",
       "      <td>418</td>\n",
       "      <td>411</td>\n",
       "    </tr>\n",
       "    <tr>\n",
       "      <th>8</th>\n",
       "      <td>01M696</td>\n",
       "      <td>BARD HIGH SCHOOL EARLY COLLEGE</td>\n",
       "      <td>130</td>\n",
       "      <td>624</td>\n",
       "      <td>604</td>\n",
       "      <td>628</td>\n",
       "    </tr>\n",
       "    <tr>\n",
       "      <th>9</th>\n",
       "      <td>02M047</td>\n",
       "      <td>47 THE AMERICAN SIGN LANGUAGE AND ENGLISH SECO...</td>\n",
       "      <td>16</td>\n",
       "      <td>395</td>\n",
       "      <td>400</td>\n",
       "      <td>387</td>\n",
       "    </tr>\n",
       "    <tr>\n",
       "      <th>10</th>\n",
       "      <td>02M288</td>\n",
       "      <td>FOOD AND FINANCE HIGH SCHOOL</td>\n",
       "      <td>62</td>\n",
       "      <td>409</td>\n",
       "      <td>393</td>\n",
       "      <td>392</td>\n",
       "    </tr>\n",
       "    <tr>\n",
       "      <th>11</th>\n",
       "      <td>02M294</td>\n",
       "      <td>ESSEX STREET ACADEMY</td>\n",
       "      <td>53</td>\n",
       "      <td>394</td>\n",
       "      <td>384</td>\n",
       "      <td>378</td>\n",
       "    </tr>\n",
       "    <tr>\n",
       "      <th>12</th>\n",
       "      <td>02M296</td>\n",
       "      <td>HIGH SCHOOL OF HOSPITALITY MANAGEMENT</td>\n",
       "      <td>58</td>\n",
       "      <td>374</td>\n",
       "      <td>375</td>\n",
       "      <td>362</td>\n",
       "    </tr>\n",
       "    <tr>\n",
       "      <th>13</th>\n",
       "      <td>02M298</td>\n",
       "      <td>PACE HIGH SCHOOL</td>\n",
       "      <td>85</td>\n",
       "      <td>423</td>\n",
       "      <td>438</td>\n",
       "      <td>432</td>\n",
       "    </tr>\n",
       "    <tr>\n",
       "      <th>14</th>\n",
       "      <td>02M300</td>\n",
       "      <td>URBAN ASSEMBLY SCHOOL OF DESIGN AND CONSTRUCTI...</td>\n",
       "      <td>48</td>\n",
       "      <td>404</td>\n",
       "      <td>449</td>\n",
       "      <td>416</td>\n",
       "    </tr>\n",
       "    <tr>\n",
       "      <th>15</th>\n",
       "      <td>02M303</td>\n",
       "      <td>FACING HISTORY SCHOOL, THE</td>\n",
       "      <td>76</td>\n",
       "      <td>353</td>\n",
       "      <td>358</td>\n",
       "      <td>340</td>\n",
       "    </tr>\n",
       "    <tr>\n",
       "      <th>16</th>\n",
       "      <td>02M305</td>\n",
       "      <td>URBAN ASSEMBLY ACADEMY OF GOVERNMENT AND LAW, THE</td>\n",
       "      <td>50</td>\n",
       "      <td>375</td>\n",
       "      <td>388</td>\n",
       "      <td>385</td>\n",
       "    </tr>\n",
       "    <tr>\n",
       "      <th>17</th>\n",
       "      <td>02M308</td>\n",
       "      <td>LOWER MANHATTAN ARTS ACADEMY</td>\n",
       "      <td>40</td>\n",
       "      <td>403</td>\n",
       "      <td>392</td>\n",
       "      <td>405</td>\n",
       "    </tr>\n",
       "    <tr>\n",
       "      <th>18</th>\n",
       "      <td>02M313</td>\n",
       "      <td>JAMES BALDWIN SCHOOL, THE: A SCHOOL FOR EXPEDI...</td>\n",
       "      <td>69</td>\n",
       "      <td>408</td>\n",
       "      <td>390</td>\n",
       "      <td>390</td>\n",
       "    </tr>\n",
       "    <tr>\n",
       "      <th>19</th>\n",
       "      <td>02M316</td>\n",
       "      <td>URBAN ASSEMBLY SCHOOL OF BUSINESS FOR YOUNG WO...</td>\n",
       "      <td>42</td>\n",
       "      <td>373</td>\n",
       "      <td>370</td>\n",
       "      <td>384</td>\n",
       "    </tr>\n",
       "  </tbody>\n",
       "</table>\n",
       "</div>"
      ],
      "text/plain": [
       "       DBN                                        SCHOOL NAME  \\\n",
       "0   01M292      HENRY STREET SCHOOL FOR INTERNATIONAL STUDIES   \n",
       "1   01M448                UNIVERSITY NEIGHBORHOOD HIGH SCHOOL   \n",
       "2   01M450                         EAST SIDE COMMUNITY SCHOOL   \n",
       "3   01M458                          FORSYTH SATELLITE ACADEMY   \n",
       "4   01M509                            MARTA VALLE HIGH SCHOOL   \n",
       "5   01M515            LOWER EAST SIDE PREPARATORY HIGH SCHOOL   \n",
       "6   01M539  NEW EXPLORATIONS INTO SCIENCE, TECHNOLOGY AND ...   \n",
       "7   01M650                               CASCADES HIGH SCHOOL   \n",
       "8   01M696                     BARD HIGH SCHOOL EARLY COLLEGE   \n",
       "9   02M047  47 THE AMERICAN SIGN LANGUAGE AND ENGLISH SECO...   \n",
       "10  02M288                       FOOD AND FINANCE HIGH SCHOOL   \n",
       "11  02M294                               ESSEX STREET ACADEMY   \n",
       "12  02M296              HIGH SCHOOL OF HOSPITALITY MANAGEMENT   \n",
       "13  02M298                                   PACE HIGH SCHOOL   \n",
       "14  02M300  URBAN ASSEMBLY SCHOOL OF DESIGN AND CONSTRUCTI...   \n",
       "15  02M303                         FACING HISTORY SCHOOL, THE   \n",
       "16  02M305  URBAN ASSEMBLY ACADEMY OF GOVERNMENT AND LAW, THE   \n",
       "17  02M308                       LOWER MANHATTAN ARTS ACADEMY   \n",
       "18  02M313  JAMES BALDWIN SCHOOL, THE: A SCHOOL FOR EXPEDI...   \n",
       "19  02M316  URBAN ASSEMBLY SCHOOL OF BUSINESS FOR YOUNG WO...   \n",
       "\n",
       "   Num of SAT Test Takers SAT Critical Reading Avg. Score SAT Math Avg. Score  \\\n",
       "0                      29                             355                 404   \n",
       "1                      91                             383                 423   \n",
       "2                      70                             377                 402   \n",
       "3                       7                             414                 401   \n",
       "4                      44                             390                 433   \n",
       "5                     112                             332                 557   \n",
       "6                     159                             522                 574   \n",
       "7                      18                             417                 418   \n",
       "8                     130                             624                 604   \n",
       "9                      16                             395                 400   \n",
       "10                     62                             409                 393   \n",
       "11                     53                             394                 384   \n",
       "12                     58                             374                 375   \n",
       "13                     85                             423                 438   \n",
       "14                     48                             404                 449   \n",
       "15                     76                             353                 358   \n",
       "16                     50                             375                 388   \n",
       "17                     40                             403                 392   \n",
       "18                     69                             408                 390   \n",
       "19                     42                             373                 370   \n",
       "\n",
       "   SAT Writing Avg. Score  \n",
       "0                     363  \n",
       "1                     366  \n",
       "2                     370  \n",
       "3                     359  \n",
       "4                     384  \n",
       "5                     316  \n",
       "6                     525  \n",
       "7                     411  \n",
       "8                     628  \n",
       "9                     387  \n",
       "10                    392  \n",
       "11                    378  \n",
       "12                    362  \n",
       "13                    432  \n",
       "14                    416  \n",
       "15                    340  \n",
       "16                    385  \n",
       "17                    405  \n",
       "18                    390  \n",
       "19                    384  "
      ]
     },
     "execution_count": 4,
     "metadata": {},
     "output_type": "execute_result"
    }
   ],
   "source": [
    "df.head(20)"
   ]
  },
  {
   "cell_type": "code",
   "execution_count": 5,
   "metadata": {},
   "outputs": [
    {
     "name": "stdout",
     "output_type": "stream",
     "text": [
      "<class 'pandas.core.frame.DataFrame'>\n",
      "RangeIndex: 478 entries, 0 to 477\n",
      "Data columns (total 6 columns):\n",
      "DBN                                478 non-null object\n",
      "SCHOOL NAME                        478 non-null object\n",
      "Num of SAT Test Takers             478 non-null object\n",
      "SAT Critical Reading Avg. Score    478 non-null object\n",
      "SAT Math Avg. Score                478 non-null object\n",
      "SAT Writing Avg. Score             478 non-null object\n",
      "dtypes: object(6)\n",
      "memory usage: 22.5+ KB\n",
      "None\n",
      "(478, 6)\n"
     ]
    }
   ],
   "source": [
    "# Let's get some of types of data present\n",
    "print(df.info())\n",
    "print(df.shape)"
   ]
  },
  {
   "cell_type": "markdown",
   "metadata": {},
   "source": [
    " Let's study the Reading scores of two districts in New York - Districts 1 and 2. \n",
    " Specifically, I'm going to analyze the probability that the reading scores of district 1 and 2 are pulling data from the same distribution. The null hypothesis will be that the means of average reading scores between district 1 and 2 will be equal to one another. "
   ]
  },
  {
   "cell_type": "code",
   "execution_count": 6,
   "metadata": {},
   "outputs": [],
   "source": [
    "# First, I'll extract district 1 and district 2 data\n",
    "pattern1 = '^01'\n",
    "pattern2 = '^02'\n",
    "district1 = df[df.DBN.str.contains(pattern1)].reset_index(drop=True)\n",
    "district2 = df[df.DBN.str.contains(pattern2)].reset_index(drop=True)\n",
    "\n",
    "#Re-labelling the columns for easier calling later on\n",
    "district1.columns = ['DBN','School','Number','Reading','Math','Writing']\n",
    "district2.columns = ['DBN','School','Number','Reading','Math','Writing']\n",
    "\n",
    "# Let's remove some of the missing data\n",
    "district2 = district2[district2.Number != 's']"
   ]
  },
  {
   "cell_type": "code",
   "execution_count": 7,
   "metadata": {
    "scrolled": true
   },
   "outputs": [
    {
     "data": {
      "image/png": "[encoded data removed]",
      "text/plain": [
       "<Figure size 432x288 with 1 Axes>"
      ]
     },
     "metadata": {},
     "output_type": "display_data"
    }
   ],
   "source": [
    "# Let's study the distributions of district 1 and district 2 reading scores \n",
    "plt.hist(district1['Reading'].astype(int))\n",
    "plt.show()"
   ]
  },
  {
   "cell_type": "markdown",
   "metadata": {},
   "source": [
    "Looks to be a skewed distribution. Assuming that the test scores of individual students in each school are normally distributed, we'll assume the average reading scores of all schools in District 1 are also normally distributed and that applying CLT, it'll converge to a normal distribution with an increased school sample size. "
   ]
  },
  {
   "cell_type": "code",
   "execution_count": 16,
   "metadata": {
    "scrolled": true
   },
   "outputs": [
    {
     "data": {
      "image/png": "[encoded data removed]",
      "text/plain": [
       "<Figure size 432x288 with 1 Axes>"
      ]
     },
     "metadata": {},
     "output_type": "display_data"
    }
   ],
   "source": [
    "plt.hist(district2['Reading'].astype(int))\n",
    "plt.show()"
   ]
  },
  {
   "cell_type": "markdown",
   "metadata": {},
   "source": [
    "Looks to resemble more of a normal distribution"
   ]
  },
  {
   "cell_type": "code",
   "execution_count": 11,
   "metadata": {},
   "outputs": [
    {
     "name": "stdout",
     "output_type": "stream",
     "text": [
      "0.9905790070795285\n"
     ]
    }
   ],
   "source": [
    "# 2 - sample t-test \n",
    "pval = ttest_ind(district1['Reading'].astype(int),district2['Reading'].astype(int)).pvalue\n",
    "print(pval)"
   ]
  },
  {
   "cell_type": "markdown",
   "metadata": {},
   "source": [
    "Under the null hypothesis, there is at least a 99% chance of attaining the observed difference in reading score means between district 1 and district 2 suggesting that the average reading scores between district 1 and 2 are not very different, so we accept the null hypothesis that the average reading scores of districts 1 and 2 come from the same distribution of average reading scores. \n",
    "\n",
    "Because the district 1 data isn't exactly normally distributed from the sample size given, the 2 sample t-test may not hold accurate results. Let's try permutation replicate sampling of the two district's reading score data and see what the probability is of observing the mean difference in average reading scores between the two districts."
   ]
  },
  {
   "cell_type": "markdown",
   "metadata": {},
   "source": [
    "# Permutation Sampling and Replicates Technique"
   ]
  },
  {
   "cell_type": "markdown",
   "metadata": {},
   "source": [
    "Here, I'm going to combine the two districts reading data into 1 list and perform 10,000 permutation sampling replicates of the difference in reading score means, assuming both district's data are pulling from the same distribution. Then I'll see how many permutation replicates are at least or greater than the observed difference in reading score means from the two districts within the current data-set. "
   ]
  },
  {
   "cell_type": "code",
   "execution_count": 12,
   "metadata": {},
   "outputs": [],
   "source": [
    "# Here I'm going to concatenate district 1 reading and district 2 reading into one list and permute the data\n",
    "# I'm essentially making the assumption that these two datas are from the same distribution.\n",
    "def permutation_sample(data1,data2):\n",
    "    data = np.concatenate((data1,data2))\n",
    "    permutated_data = np.random.permutation(data)\n",
    "    perm_sample_1 = permutated_data[:len(data1)]\n",
    "    perm_sample_2 = permutated_data[len(data1):]\n",
    "    \n",
    "    return perm_sample_1, perm_sample_2\n",
    "\n",
    "# Here I'm going to perform permutation sampling 10,000 times and calculating the difference in means of average reading scores between district 1 and district 2.\n",
    "\n",
    "def draw_perm_reps(data_1, data_2, func, size=1):\n",
    "    \n",
    "    perm_replicates = np.empty(size)\n",
    "\n",
    "    for i in range(size):\n",
    "    \n",
    "        perm_sample_1, perm_sample_2 = permutation_sample(data_1,data_2)\n",
    "        perm_replicates[i] = func(perm_sample_1,perm_sample_2)\n",
    "\n",
    "    return perm_replicates\n",
    "\n",
    "# This is the function used to calculate the difference in means\n",
    "\n",
    "def diff_of_means(data_1, data_2):\n",
    "\n",
    "    diff = np.mean(data_1) - np.mean(data_2)\n",
    "\n",
    "    return diff"
   ]
  },
  {
   "cell_type": "code",
   "execution_count": 14,
   "metadata": {},
   "outputs": [
    {
     "name": "stdout",
     "output_type": "stream",
     "text": [
      "0.474\n"
     ]
    }
   ],
   "source": [
    "# Applying to our data-sets\n",
    "d1 = district1['Reading'].astype(int)\n",
    "d2 = district2['Reading'].astype(int)\n",
    "diff_means = diff_of_means(d1,d2)\n",
    "perm_replicates = draw_perm_reps(d1, d2,diff_of_means, size=10000)\n",
    "p = np.sum(perm_replicates >= diff_means) / len(perm_replicates)\n",
    "print(p)"
   ]
  },
  {
   "cell_type": "code",
   "execution_count": 15,
   "metadata": {
    "scrolled": false
   },
   "outputs": [
    {
     "data": {
      "image/png": "[encoded data removed]",
      "text/plain": [
       "<Figure size 432x288 with 1 Axes>"
      ]
     },
     "metadata": {},
     "output_type": "display_data"
    }
   ],
   "source": [
    "plt.hist(perm_replicates)\n",
    "plt.show()"
   ]
  },
  {
   "cell_type": "markdown",
   "metadata": {},
   "source": [
    "This resembles more of a normal distribution "
   ]
  },
  {
   "cell_type": "markdown",
   "metadata": {},
   "source": [
    "There is a 47% chance that the difference in reading score means is observed from the current data-set assuming that the distribution of the difference in average reading scores of both districts are the same. We can conclude that the average reading scores between the two districts are pulling from a similar distribution. "
   ]
  },
  {
   "cell_type": "markdown",
   "metadata": {},
   "source": [
    "# End"
   ]
  }
 ],
 "metadata": {
  "kernelspec": {
   "display_name": "Python 3",
   "language": "python",
   "name": "python3"
  },
  "language_info": {
   "codemirror_mode": {
    "name": "ipython",
    "version": 3
   },
   "file_extension": ".py",
   "mimetype": "text/x-python",
   "name": "python",
   "nbconvert_exporter": "python",
   "pygments_lexer": "ipython3",
   "version": "3.6.5"
  }
 },
 "nbformat": 4,
 "nbformat_minor": 2
}
